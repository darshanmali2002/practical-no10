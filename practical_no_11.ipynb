{
  "nbformat": 4,
  "nbformat_minor": 0,
  "metadata": {
    "colab": {
      "name": "practical no.11.ipynb",
      "provenance": []
    },
    "kernelspec": {
      "name": "python3",
      "display_name": "Python 3"
    },
    "language_info": {
      "name": "python"
    }
  },
  "cells": [
    {
      "cell_type": "markdown",
      "source": [
        "\n",
        "Write a python program using numpy to sort the elements in the given array."
      ],
      "metadata": {
        "id": "pB1HdR4szm9i"
      }
    },
    {
      "cell_type": "markdown",
      "source": [
        "Example 1"
      ],
      "metadata": {
        "id": "smopa30Wz5FN"
      }
    },
    {
      "cell_type": "code",
      "source": [
        "import numpy as np\n",
        "nums =  np.random.rand(10)\n",
        "print(\"Original array:\")\n",
        "print(nums)\n",
        "print(\"\\nSorted first 5 elements:\")\n",
        "print(nums[np.argpartition(nums,range(5))])\n",
        "\n"
      ],
      "metadata": {
        "colab": {
          "base_uri": "https://localhost:8080/"
        },
        "id": "DgVwvNj4z6Jd",
        "outputId": "785baed0-7421-4308-f394-766bb80aef51"
      },
      "execution_count": 2,
      "outputs": [
        {
          "output_type": "stream",
          "name": "stdout",
          "text": [
            "Original array:\n",
            "[0.15758921 0.60994049 0.6624063  0.42369681 0.12005799 0.8738336\n",
            " 0.31223265 0.67412904 0.1353154  0.95232729]\n",
            "\n",
            "Sorted first 5 elements:\n",
            "[0.12005799 0.1353154  0.15758921 0.31223265 0.42369681 0.8738336\n",
            " 0.6624063  0.67412904 0.60994049 0.95232729]\n"
          ]
        }
      ]
    },
    {
      "cell_type": "markdown",
      "source": [
        "Example 2-Sort Array in Ascending Order"
      ],
      "metadata": {
        "id": "lkEBQG-wz_BG"
      }
    },
    {
      "cell_type": "code",
      "source": [
        "import numpy as np\n",
        "\n",
        "orarr = np.array([10, 60, 100, 20, 8, 35, 70])\n",
        "print(\"***Sorting Numpy Array in Ascending Order***\")\n",
        "print(\"Original Array = \", orarr)\n",
        "\n",
        "orarr.sort()\n",
        "print(\"sorted Array   = \", orarr)"
      ],
      "metadata": {
        "colab": {
          "base_uri": "https://localhost:8080/"
        },
        "id": "uhU6D_G40EOV",
        "outputId": "565af6cf-5c3f-4687-b4b2-fc79db476435"
      },
      "execution_count": 3,
      "outputs": [
        {
          "output_type": "stream",
          "name": "stdout",
          "text": [
            "***Sorting Numpy Array in Ascending Order***\n",
            "Original Array =  [ 10  60 100  20   8  35  70]\n",
            "sorted Array   =  [  8  10  20  35  60  70 100]\n"
          ]
        }
      ]
    },
    {
      "cell_type": "markdown",
      "source": [
        "Example 3-Sort Array in Descending Order"
      ],
      "metadata": {
        "id": "LLTCr3rp0JU0"
      }
    },
    {
      "cell_type": "code",
      "source": [
        "import numpy as np\n",
        "\n",
        "orarr = np.array([25, 95, 75, 80, 40, 20, 140, 100])\n",
        "print(\"***Sorting Numpy Array in Descending Order***\")\n",
        "print(\"Original Array             = \", orarr)\n",
        "\n",
        "orarr.sort()\n",
        "descarr = orarr[::-1]\n",
        "print(\"Array in Descending Order  = \", descarr)"
      ],
      "metadata": {
        "colab": {
          "base_uri": "https://localhost:8080/"
        },
        "id": "5805huO00McU",
        "outputId": "e6ad9118-1677-4a88-d710-5f6d49e82fbf"
      },
      "execution_count": 4,
      "outputs": [
        {
          "output_type": "stream",
          "name": "stdout",
          "text": [
            "***Sorting Numpy Array in Descending Order***\n",
            "Original Array             =  [ 25  95  75  80  40  20 140 100]\n",
            "Array in Descending Order  =  [140 100  95  80  75  40  25  20]\n"
          ]
        }
      ]
    }
  ]
}